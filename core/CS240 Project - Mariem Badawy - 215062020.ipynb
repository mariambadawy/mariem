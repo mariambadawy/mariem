{
 "cells": [
  {
   "cell_type": "code",
   "execution_count": 20,
   "metadata": {
    "collapsed": false
   },
   "outputs": [],
   "source": [
    "%matplotlib inline\n",
    "from __future__ import print_function, division\n",
    "from scipy import stats\n",
    "import pandas as pd\n",
    "import numpy as np\n",
    "import random\n",
    "import matplotlib\n",
    "import thinkstats2\n",
    "import thinkplot"
   ]
  },
  {
   "cell_type": "code",
   "execution_count": 21,
   "metadata": {
    "collapsed": false
   },
   "outputs": [],
   "source": [
    "# This line reads the dataset file with pandas\n",
    "# I chose the dataset wins and the question: \n",
    "# What is the relationship between the players' wins and saves?\n",
    "ps = pd.read_csv('C:\\Users\\mariambadawy\\Desktop\\core\\Teams.csv')"
   ]
  },
  {
   "cell_type": "code",
   "execution_count": 22,
   "metadata": {
    "collapsed": true
   },
   "outputs": [],
   "source": [
    "# I will observe the similarities between Players' wins and saves\n",
    "wins = ps['W'].dropna()\n",
    "saves = ps['SV'].dropna()"
   ]
  },
  {
   "cell_type": "code",
   "execution_count": 23,
   "metadata": {
    "collapsed": false
   },
   "outputs": [
    {
     "data": {
      "text/html": [
       "<div>\n",
       "<table border=\"1\" class=\"dataframe\">\n",
       "  <thead>\n",
       "    <tr style=\"text-align: right;\">\n",
       "      <th></th>\n",
       "      <th>W</th>\n",
       "      <th>SV</th>\n",
       "    </tr>\n",
       "  </thead>\n",
       "  <tbody>\n",
       "    <tr>\n",
       "      <th>0</th>\n",
       "      <td>20</td>\n",
       "      <td>3</td>\n",
       "    </tr>\n",
       "    <tr>\n",
       "      <th>1</th>\n",
       "      <td>19</td>\n",
       "      <td>1</td>\n",
       "    </tr>\n",
       "    <tr>\n",
       "      <th>2</th>\n",
       "      <td>10</td>\n",
       "      <td>0</td>\n",
       "    </tr>\n",
       "    <tr>\n",
       "      <th>3</th>\n",
       "      <td>7</td>\n",
       "      <td>0</td>\n",
       "    </tr>\n",
       "    <tr>\n",
       "      <th>4</th>\n",
       "      <td>16</td>\n",
       "      <td>0</td>\n",
       "    </tr>\n",
       "    <tr>\n",
       "      <th>5</th>\n",
       "      <td>21</td>\n",
       "      <td>0</td>\n",
       "    </tr>\n",
       "    <tr>\n",
       "      <th>6</th>\n",
       "      <td>4</td>\n",
       "      <td>0</td>\n",
       "    </tr>\n",
       "    <tr>\n",
       "      <th>7</th>\n",
       "      <td>13</td>\n",
       "      <td>0</td>\n",
       "    </tr>\n",
       "    <tr>\n",
       "      <th>8</th>\n",
       "      <td>15</td>\n",
       "      <td>0</td>\n",
       "    </tr>\n",
       "    <tr>\n",
       "      <th>9</th>\n",
       "      <td>35</td>\n",
       "      <td>1</td>\n",
       "    </tr>\n",
       "    <tr>\n",
       "      <th>10</th>\n",
       "      <td>3</td>\n",
       "      <td>0</td>\n",
       "    </tr>\n",
       "    <tr>\n",
       "      <th>11</th>\n",
       "      <td>9</td>\n",
       "      <td>0</td>\n",
       "    </tr>\n",
       "    <tr>\n",
       "      <th>12</th>\n",
       "      <td>39</td>\n",
       "      <td>1</td>\n",
       "    </tr>\n",
       "    <tr>\n",
       "      <th>13</th>\n",
       "      <td>6</td>\n",
       "      <td>0</td>\n",
       "    </tr>\n",
       "    <tr>\n",
       "      <th>14</th>\n",
       "      <td>5</td>\n",
       "      <td>0</td>\n",
       "    </tr>\n",
       "    <tr>\n",
       "      <th>15</th>\n",
       "      <td>34</td>\n",
       "      <td>0</td>\n",
       "    </tr>\n",
       "    <tr>\n",
       "      <th>16</th>\n",
       "      <td>30</td>\n",
       "      <td>0</td>\n",
       "    </tr>\n",
       "    <tr>\n",
       "      <th>17</th>\n",
       "      <td>15</td>\n",
       "      <td>0</td>\n",
       "    </tr>\n",
       "    <tr>\n",
       "      <th>18</th>\n",
       "      <td>2</td>\n",
       "      <td>0</td>\n",
       "    </tr>\n",
       "    <tr>\n",
       "      <th>19</th>\n",
       "      <td>0</td>\n",
       "      <td>0</td>\n",
       "    </tr>\n",
       "    <tr>\n",
       "      <th>20</th>\n",
       "      <td>34</td>\n",
       "      <td>0</td>\n",
       "    </tr>\n",
       "    <tr>\n",
       "      <th>21</th>\n",
       "      <td>0</td>\n",
       "      <td>0</td>\n",
       "    </tr>\n",
       "    <tr>\n",
       "      <th>22</th>\n",
       "      <td>17</td>\n",
       "      <td>0</td>\n",
       "    </tr>\n",
       "    <tr>\n",
       "      <th>23</th>\n",
       "      <td>43</td>\n",
       "      <td>3</td>\n",
       "    </tr>\n",
       "    <tr>\n",
       "      <th>24</th>\n",
       "      <td>2</td>\n",
       "      <td>0</td>\n",
       "    </tr>\n",
       "    <tr>\n",
       "      <th>25</th>\n",
       "      <td>29</td>\n",
       "      <td>0</td>\n",
       "    </tr>\n",
       "    <tr>\n",
       "      <th>26</th>\n",
       "      <td>28</td>\n",
       "      <td>1</td>\n",
       "    </tr>\n",
       "    <tr>\n",
       "      <th>27</th>\n",
       "      <td>36</td>\n",
       "      <td>0</td>\n",
       "    </tr>\n",
       "    <tr>\n",
       "      <th>28</th>\n",
       "      <td>8</td>\n",
       "      <td>0</td>\n",
       "    </tr>\n",
       "    <tr>\n",
       "      <th>29</th>\n",
       "      <td>9</td>\n",
       "      <td>0</td>\n",
       "    </tr>\n",
       "    <tr>\n",
       "      <th>...</th>\n",
       "      <td>...</td>\n",
       "      <td>...</td>\n",
       "    </tr>\n",
       "    <tr>\n",
       "      <th>2805</th>\n",
       "      <td>69</td>\n",
       "      <td>31</td>\n",
       "    </tr>\n",
       "    <tr>\n",
       "      <th>2806</th>\n",
       "      <td>68</td>\n",
       "      <td>39</td>\n",
       "    </tr>\n",
       "    <tr>\n",
       "      <th>2807</th>\n",
       "      <td>89</td>\n",
       "      <td>54</td>\n",
       "    </tr>\n",
       "    <tr>\n",
       "      <th>2808</th>\n",
       "      <td>93</td>\n",
       "      <td>43</td>\n",
       "    </tr>\n",
       "    <tr>\n",
       "      <th>2809</th>\n",
       "      <td>78</td>\n",
       "      <td>43</td>\n",
       "    </tr>\n",
       "    <tr>\n",
       "      <th>2810</th>\n",
       "      <td>103</td>\n",
       "      <td>38</td>\n",
       "    </tr>\n",
       "    <tr>\n",
       "      <th>2811</th>\n",
       "      <td>68</td>\n",
       "      <td>28</td>\n",
       "    </tr>\n",
       "    <tr>\n",
       "      <th>2812</th>\n",
       "      <td>94</td>\n",
       "      <td>37</td>\n",
       "    </tr>\n",
       "    <tr>\n",
       "      <th>2813</th>\n",
       "      <td>75</td>\n",
       "      <td>37</td>\n",
       "    </tr>\n",
       "    <tr>\n",
       "      <th>2814</th>\n",
       "      <td>86</td>\n",
       "      <td>47</td>\n",
       "    </tr>\n",
       "    <tr>\n",
       "      <th>2815</th>\n",
       "      <td>84</td>\n",
       "      <td>44</td>\n",
       "    </tr>\n",
       "    <tr>\n",
       "      <th>2816</th>\n",
       "      <td>81</td>\n",
       "      <td>41</td>\n",
       "    </tr>\n",
       "    <tr>\n",
       "      <th>2817</th>\n",
       "      <td>74</td>\n",
       "      <td>29</td>\n",
       "    </tr>\n",
       "    <tr>\n",
       "      <th>2818</th>\n",
       "      <td>91</td>\n",
       "      <td>47</td>\n",
       "    </tr>\n",
       "    <tr>\n",
       "      <th>2819</th>\n",
       "      <td>79</td>\n",
       "      <td>55</td>\n",
       "    </tr>\n",
       "    <tr>\n",
       "      <th>2820</th>\n",
       "      <td>73</td>\n",
       "      <td>46</td>\n",
       "    </tr>\n",
       "    <tr>\n",
       "      <th>2821</th>\n",
       "      <td>59</td>\n",
       "      <td>26</td>\n",
       "    </tr>\n",
       "    <tr>\n",
       "      <th>2822</th>\n",
       "      <td>84</td>\n",
       "      <td>48</td>\n",
       "    </tr>\n",
       "    <tr>\n",
       "      <th>2823</th>\n",
       "      <td>87</td>\n",
       "      <td>55</td>\n",
       "    </tr>\n",
       "    <tr>\n",
       "      <th>2824</th>\n",
       "      <td>69</td>\n",
       "      <td>42</td>\n",
       "    </tr>\n",
       "    <tr>\n",
       "      <th>2825</th>\n",
       "      <td>71</td>\n",
       "      <td>43</td>\n",
       "    </tr>\n",
       "    <tr>\n",
       "      <th>2826</th>\n",
       "      <td>78</td>\n",
       "      <td>51</td>\n",
       "    </tr>\n",
       "    <tr>\n",
       "      <th>2827</th>\n",
       "      <td>68</td>\n",
       "      <td>35</td>\n",
       "    </tr>\n",
       "    <tr>\n",
       "      <th>2828</th>\n",
       "      <td>86</td>\n",
       "      <td>49</td>\n",
       "    </tr>\n",
       "    <tr>\n",
       "      <th>2829</th>\n",
       "      <td>87</td>\n",
       "      <td>43</td>\n",
       "    </tr>\n",
       "    <tr>\n",
       "      <th>2830</th>\n",
       "      <td>86</td>\n",
       "      <td>38</td>\n",
       "    </tr>\n",
       "    <tr>\n",
       "      <th>2831</th>\n",
       "      <td>68</td>\n",
       "      <td>42</td>\n",
       "    </tr>\n",
       "    <tr>\n",
       "      <th>2832</th>\n",
       "      <td>95</td>\n",
       "      <td>56</td>\n",
       "    </tr>\n",
       "    <tr>\n",
       "      <th>2833</th>\n",
       "      <td>89</td>\n",
       "      <td>43</td>\n",
       "    </tr>\n",
       "    <tr>\n",
       "      <th>2834</th>\n",
       "      <td>95</td>\n",
       "      <td>46</td>\n",
       "    </tr>\n",
       "  </tbody>\n",
       "</table>\n",
       "<p>2835 rows × 2 columns</p>\n",
       "</div>"
      ],
      "text/plain": [
       "        W  SV\n",
       "0      20   3\n",
       "1      19   1\n",
       "2      10   0\n",
       "3       7   0\n",
       "4      16   0\n",
       "5      21   0\n",
       "6       4   0\n",
       "7      13   0\n",
       "8      15   0\n",
       "9      35   1\n",
       "10      3   0\n",
       "11      9   0\n",
       "12     39   1\n",
       "13      6   0\n",
       "14      5   0\n",
       "15     34   0\n",
       "16     30   0\n",
       "17     15   0\n",
       "18      2   0\n",
       "19      0   0\n",
       "20     34   0\n",
       "21      0   0\n",
       "22     17   0\n",
       "23     43   3\n",
       "24      2   0\n",
       "25     29   0\n",
       "26     28   1\n",
       "27     36   0\n",
       "28      8   0\n",
       "29      9   0\n",
       "...   ...  ..\n",
       "2805   69  31\n",
       "2806   68  39\n",
       "2807   89  54\n",
       "2808   93  43\n",
       "2809   78  43\n",
       "2810  103  38\n",
       "2811   68  28\n",
       "2812   94  37\n",
       "2813   75  37\n",
       "2814   86  47\n",
       "2815   84  44\n",
       "2816   81  41\n",
       "2817   74  29\n",
       "2818   91  47\n",
       "2819   79  55\n",
       "2820   73  46\n",
       "2821   59  26\n",
       "2822   84  48\n",
       "2823   87  55\n",
       "2824   69  42\n",
       "2825   71  43\n",
       "2826   78  51\n",
       "2827   68  35\n",
       "2828   86  49\n",
       "2829   87  43\n",
       "2830   86  38\n",
       "2831   68  42\n",
       "2832   95  56\n",
       "2833   89  43\n",
       "2834   95  46\n",
       "\n",
       "[2835 rows x 2 columns]"
      ]
     },
     "execution_count": 23,
     "metadata": {},
     "output_type": "execute_result"
    }
   ],
   "source": [
    "ps[['W', 'SV']]"
   ]
  },
  {
   "cell_type": "code",
   "execution_count": 24,
   "metadata": {
    "collapsed": false
   },
   "outputs": [
    {
     "name": "stdout",
     "output_type": "stream",
     "text": [
      "Minimum value of the wins is 0.00\n",
      "Maximum value of the wins is 116.00\n",
      "Mean of the wins is 74.81\n",
      "Standard Deviation of the wins is 17.59\n",
      "Variance of the wins is 309.45\n",
      "~~~~~~~~~~~~~~~~~~~~~~~~~~~~~~~~~~~~~~~~~~~~~\n",
      "Minimum value saves is 0.00\n",
      "Maximum value saves is 68.00\n",
      "Mean of the saves is 23.87\n",
      "Standard Deviation of the saves is 16.33\n",
      "Variance of the saves is 266.64\n"
     ]
    }
   ],
   "source": [
    "# These are some of the calculations and statistics for the Wins and Saves columns\n",
    "\n",
    "print ('Minimum value of the wins is %.2f' %wins.min())\n",
    "print ('Maximum value of the wins is %.2f' %wins.max())\n",
    "print ('Mean of the wins is %.2f' %wins.mean())\n",
    "print ('Standard Deviation of the wins is %.2f' %wins.std())\n",
    "print ('Variance of the wins is %.2f' %wins.var())\n",
    "print ('~~~~~~~~~~~~~~~~~~~~~~~~~~~~~~~~~~~~~~~~~~~~~')\n",
    "print ('Minimum value saves is %.2f' %saves.min())\n",
    "print ('Maximum value saves is %.2f' %saves.max())\n",
    "print ('Mean of the saves is %.2f' %saves.mean())\n",
    "print ('Standard Deviation of the saves is %.2f' %saves.std())\n",
    "print ('Variance of the saves is %.2f' %saves.var())"
   ]
  },
  {
   "cell_type": "code",
   "execution_count": 27,
   "metadata": {
    "collapsed": false
   },
   "outputs": [
    {
     "data": {
      "image/png": "[encoded data removed]",
      "text/plain": [
       "<matplotlib.figure.Figure at 0xcd9c4e0>"
      ]
     },
     "metadata": {},
     "output_type": "display_data"
    },
    {
     "data": {
      "image/png": "[encoded data removed]",
      "text/plain": [
       "<matplotlib.figure.Figure at 0xd388c18>"
      ]
     },
     "metadata": {},
     "output_type": "display_data"
    },
    {
     "data": {
      "image/png": "[encoded data removed]",
      "text/plain": [
       "<matplotlib.figure.Figure at 0xc9eb550>"
      ]
     },
     "metadata": {},
     "output_type": "display_data"
    },
    {
     "data": {
      "text/plain": [
       "<matplotlib.figure.Figure at 0xc8eab70>"
      ]
     },
     "metadata": {},
     "output_type": "display_data"
    }
   ],
   "source": [
    "# This is the histogram of the relationship between Wins and Saves\n",
    "wins_hist = thinkstats2.Hist(wins,label=\"Wins\")\n",
    "saves_hist = thinkstats2.Hist(saves,label=\"Saves\")\n",
    "thinkplot.Hist(wins_hist, color='Pink', width=0.45, align='right')\n",
    "thinkplot.Hist(saves_hist, color='Brown', width=0.45, align='left') \n",
    "thinkplot.Show(xlabel='Number of Wins & Saves', ylabel='Number of Players' ,loc='upper right', title='Wins and Saves Histogram')\n",
    "\n",
    "# This is the PMF of the histogram of the relationship between Wins and Saves\n",
    "wins_hist1 = thinkstats2.Pmf(wins,label=\"Wins\")\n",
    "saves_hist1 = thinkstats2.Pmf(saves,label=\"Saves\")\n",
    "thinkplot.PrePlot(2)\n",
    "thinkplot.Pmf(wins_hist1, color='Pink', align='right')\n",
    "thinkplot.Pmf(saves_hist1, color='Brown', align='right') \n",
    "thinkplot.Show(xlabel='Number of Wins & Saves', ylabel='PMF',loc='upper right',title='Wins and Saves PMF')\n",
    "\n",
    "# This is the CDF of the histogram of the relationship between Wins and Saves \n",
    "wins_hist2 = thinkstats2.Cdf(wins)\n",
    "saves_hist2 = thinkstats2.Cdf(saves)\n",
    "thinkplot.Cdf(wins_hist2, color='Pink',label=\"Wins\")\n",
    "thinkplot.Cdf(saves_hist2, color='Brown',label=\"Saves\") \n",
    "thinkplot.Show(xlabel='Number of Wins and Saves', ylabel='CDF',loc='upper right',title='Wins and Saves CDF')"
   ]
  },
  {
   "cell_type": "code",
   "execution_count": 34,
   "metadata": {
    "collapsed": false
   },
   "outputs": [
    {
     "name": "stdout",
     "output_type": "stream",
     "text": [
      "Wins Mean:  74.8141093474\n",
      "Saves Mean: 23.867372134\n",
      "~~~~~~~~~~~~~~~~~~~~~~~~~~~~~~~~~~~~~~~\n",
      "Wins Standard Deviation:  17.5912083846\n",
      "Saves Standard Deviation: 16.3291407291\n",
      "~~~~~~~~~~~~~~~~~~~~~~~~~~~~~~~~~~~~~~~\n",
      "Wins Median:  74.8141093474\n",
      "Saves Median: 23.867372134\n",
      "~~~~~~~~~~~~~~~~~~~~~~~~~~~~~~~~~~~~~~~\n",
      "Density of Wins PDF:  0.0137552076713\n",
      "Density of Saves PDF: 0.0148183378742\n"
     ]
    }
   ],
   "source": [
    "# This part calcultes the values of the means, standard deviations, medians, PDFs densities of the Wins and Saves\n",
    "# and prints them in the end\n",
    "wins_mean = wins.mean()\n",
    "wins_std = wins.std()\n",
    "saves_mean = saves.mean()\n",
    "saves_std = saves.std()\n",
    "\n",
    "wins_pdf = thinkstats2.NormalPdf(wins_mean, wins_std)\n",
    "saves_pdf = thinkstats2.NormalPdf(saves_mean, saves_std)\n",
    "\n",
    "def Median(xs):\n",
    "    \n",
    "    cdf = thinkstats2.Cdf(xs)\n",
    "    return cdf.Value(0.5)\n",
    "\n",
    "wins_median = Median(wins_pdf)\n",
    "saves_median = Median(saves_pdf)\n",
    "\n",
    "print ('Wins Mean:  '+ str(wins_mean)) \n",
    "print ('Saves Mean: '+ str(saves_mean))\n",
    "print('~~~~~~~~~~~~~~~~~~~~~~~~~~~~~~~~~~~~~~~')\n",
    "print('Wins Standard Deviation:  ' + str(wins_std))\n",
    "print('Saves Standard Deviation: ' + str(saves_std))\n",
    "print('~~~~~~~~~~~~~~~~~~~~~~~~~~~~~~~~~~~~~~~')\n",
    "print ('Wins Median:  '  + str(wins_median))\n",
    "print ('Saves Median: '  + str(saves_median))\n",
    "print('~~~~~~~~~~~~~~~~~~~~~~~~~~~~~~~~~~~~~~~')\n",
    "print ('Density of Wins PDF:  ' +str(wins_pdf.Density(wins_mean+ wins_std)))\n",
    "print ('Density of Saves PDF: ' +str(saves_pdf.Density(saves_mean+ saves_std)))"
   ]
  },
  {
   "cell_type": "code",
   "execution_count": 47,
   "metadata": {
    "collapsed": false
   },
   "outputs": [
    {
     "data": {
      "image/png": "[encoded data removed]",
      "text/plain": [
       "<matplotlib.figure.Figure at 0xd4d8dd8>"
      ]
     },
     "metadata": {},
     "output_type": "display_data"
    },
    {
     "data": {
      "text/plain": [
       "<matplotlib.figure.Figure at 0xc694748>"
      ]
     },
     "metadata": {},
     "output_type": "display_data"
    }
   ],
   "source": [
    "# This part plots the Normal PDF Distribustions and the Sample KDEs of the Wins and Saves\n",
    "thinkplot.Pdf(wins_pdf, label='Normal PDF Distribution of Wins',color='Gray')\n",
    "thinkplot.Pdf(saves_pdf, label='Normal PDF Distribution of Saves',color='Red')\n",
    "\n",
    "wins_smp = np.random.normal(wins_mean, wins_std, 1000)\n",
    "saves_smp = np.random.normal(saves_mean, saves_std, 1000)\n",
    "\n",
    "wins_smp_pdf = thinkstats2.EstimatedPdf(wins_smp)\n",
    "saves_smp_pdf = thinkstats2.EstimatedPdf(saves_smp)\n",
    "\n",
    "thinkplot.Pdf(wins_smp_pdf, label='Sample KDE of Wins',color='Purple')\n",
    "thinkplot.Pdf(saves_smp_pdf, label='Sample KDE of Saves',color='darkblue')\n",
    "\n",
    "thinkplot.Show(xlabel='x', ylabel='PDF')"
   ]
  },
  {
   "cell_type": "code",
   "execution_count": 54,
   "metadata": {
    "collapsed": false
   },
   "outputs": [
    {
     "name": "stdout",
     "output_type": "stream",
     "text": [
      "Covariance of Wins and Saves by 100: \n"
     ]
    },
    {
     "data": {
      "text/plain": [
       "14528.151855895536"
      ]
     },
     "execution_count": 54,
     "metadata": {},
     "output_type": "execute_result"
    }
   ],
   "source": [
    "# Covariance of Wins and Saves\n",
    "def Covariance(xs, ys, meanx=None, meany=None):\n",
    "    xs = np.asarray(xs)\n",
    "    ys = np.asarray(ys)\n",
    "\n",
    "    if meanx is None:\n",
    "        meanx = np.mean(xs)\n",
    "    if meany is None:\n",
    "        meany = np.mean(ys)\n",
    "\n",
    "    covariance = np.dot(xs-meanx, ys-meany) / len(xs)\n",
    "    return covariance\n",
    "\n",
    "print('Covariance of Wins and Saves by 100: ')\n",
    "Covariance(wins, saves)*100"
   ]
  },
  {
   "cell_type": "code",
   "execution_count": 55,
   "metadata": {
    "collapsed": false
   },
   "outputs": [
    {
     "name": "stdout",
     "output_type": "stream",
     "text": [
      "Correlation of Wins and Saves by 100: \n"
     ]
    },
    {
     "data": {
      "text/plain": [
       "50.594648470958006"
      ]
     },
     "execution_count": 55,
     "metadata": {},
     "output_type": "execute_result"
    }
   ],
   "source": [
    "# Correlation between Wins and Saves\n",
    "def Correlation(xs, ys):\n",
    "    xs = np.asarray(xs)\n",
    "    ys = np.asarray(ys)\n",
    "\n",
    "    meanx, varx = thinkstats2.MeanVar(xs)\n",
    "    meany, vary = thinkstats2.MeanVar(ys)\n",
    "\n",
    "    correlation = Covariance(xs, ys, meanx, meany) / np.sqrt(varx * vary)\n",
    "    return correlation\n",
    "print('Correlation of Wins and Saves by 100: ')\n",
    "Correlation(wins, saves)*100"
   ]
  },
  {
   "cell_type": "code",
   "execution_count": 57,
   "metadata": {
    "collapsed": false
   },
   "outputs": [
    {
     "data": {
      "image/png": "[encoded data removed]",
      "text/plain": [
       "<matplotlib.figure.Figure at 0xd4eff28>"
      ]
     },
     "metadata": {},
     "output_type": "display_data"
    }
   ],
   "source": [
    "# This is the Jitter graph for the results\n",
    "def Jitter(values, jitter=0.5):\n",
    "    n = len(values)\n",
    "    return np.random.normal(0, jitter, n) + values\n",
    "\n",
    "heights = Jitter(wins, 0.3)\n",
    "weights = Jitter(saves, 0.3)\n",
    "\n",
    "thinkplot.Scatter(heights, weights, alpha=0.1, s=10)\n",
    "thinkplot.Config(xlabel='Wins',\n",
    "                 ylabel='Saves',                 \n",
    "                 legend=False)"
   ]
  },
  {
   "cell_type": "code",
   "execution_count": 59,
   "metadata": {
    "collapsed": false
   },
   "outputs": [
    {
     "name": "stdout",
     "output_type": "stream",
     "text": [
      "0.0\n"
     ]
    },
    {
     "data": {
      "image/png": "[encoded data removed]",
      "text/plain": [
       "<matplotlib.figure.Figure at 0xdda0630>"
      ]
     },
     "metadata": {},
     "output_type": "display_data"
    },
    {
     "data": {
      "text/plain": [
       "<matplotlib.figure.Figure at 0xde2a9e8>"
      ]
     },
     "metadata": {},
     "output_type": "display_data"
    }
   ],
   "source": [
    "# This part is for the Hypothesis Test of the results\n",
    "class DiffMeansPermute(thinkstats2.HypothesisTest):\n",
    "\n",
    "    def TestStatistic(self, data):\n",
    "        group1, group2 = data\n",
    "        test_stat = abs(group1.mean() - group2.mean())\n",
    "        return test_stat\n",
    "\n",
    "    def MakeModel(self):\n",
    "        group1, group2 = self.data\n",
    "        self.n, self.m = len(group1), len(group2)\n",
    "        self.pool = np.hstack((group1, group2))\n",
    "\n",
    "    def RunModel(self):\n",
    "        np.random.shuffle(self.pool)\n",
    "        data = self.pool[:self.n], self.pool[self.n:]\n",
    "        return data\n",
    "    \n",
    "total_data = wins.values, saves.values\n",
    "ws = DiffMeansPermute(total_data)\n",
    "pvalue = ws.PValue()\n",
    "print (pvalue)\n",
    "ws.PlotCdf()\n",
    "thinkplot.Show(xlabel=Test Statistic', ylabel='CDF')"
   ]
  },
  {
   "cell_type": "code",
   "execution_count": null,
   "metadata": {
    "collapsed": true
   },
   "outputs": [],
   "source": []
  }
 ],
 "metadata": {
  "kernelspec": {
   "display_name": "Python 2",
   "language": "python",
   "name": "python2"
  },
  "language_info": {
   "codemirror_mode": {
    "name": "ipython",
    "version": 2
   },
   "file_extension": ".py",
   "mimetype": "text/x-python",
   "name": "python",
   "nbconvert_exporter": "python",
   "pygments_lexer": "ipython2",
   "version": "2.7.13"
  }
 },
 "nbformat": 4,
 "nbformat_minor": 2
}
